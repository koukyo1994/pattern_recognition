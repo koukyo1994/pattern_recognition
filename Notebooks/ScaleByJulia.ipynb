{
 "cells": [
  {
   "cell_type": "code",
   "execution_count": 1,
   "metadata": {},
   "outputs": [
    {
     "name": "stderr",
     "output_type": "stream",
     "text": [
      "\u001b[1m\u001b[36mINFO: \u001b[39m\u001b[22m\u001b[36mCloning cache of CodecZlib from https://github.com/bicycle1885/CodecZlib.jl.git\n",
      "\u001b[39m\u001b[1m\u001b[36mINFO: \u001b[39m\u001b[22m\u001b[36mCloning cache of RData from https://github.com/JuliaData/RData.jl.git\n",
      "\u001b[39m\u001b[1m\u001b[36mINFO: \u001b[39m\u001b[22m\u001b[36mCloning cache of RDatasets from https://github.com/johnmyleswhite/RDatasets.jl.git\n",
      "\u001b[39m\u001b[1m\u001b[36mINFO: \u001b[39m\u001b[22m\u001b[36mCloning cache of TranscodingStreams from https://github.com/bicycle1885/TranscodingStreams.jl.git\n",
      "\u001b[39m\u001b[1m\u001b[36mINFO: \u001b[39m\u001b[22m\u001b[36mInstalling CodecZlib v0.4.1\n",
      "\u001b[39m\u001b[1m\u001b[36mINFO: \u001b[39m\u001b[22m\u001b[36mInstalling RData v0.2.0\n",
      "\u001b[39m\u001b[1m\u001b[36mINFO: \u001b[39m\u001b[22m\u001b[36mInstalling RDatasets v0.2.0\n",
      "\u001b[39m\u001b[1m\u001b[36mINFO: \u001b[39m\u001b[22m\u001b[36mInstalling TranscodingStreams v0.4.1\n",
      "\u001b[39m\u001b[1m\u001b[36mINFO: \u001b[39m\u001b[22m\u001b[36mBuilding SpecialFunctions\n",
      "\u001b[39m\u001b[1m\u001b[36mINFO: \u001b[39m\u001b[22m\u001b[36mPackage database updated\n",
      "\u001b[39m\u001b[1m\u001b[36mINFO: \u001b[39m\u001b[22m\u001b[36mMETADATA is out-of-date — you may not have the latest version of RDatasets\n",
      "\u001b[39m\u001b[1m\u001b[36mINFO: \u001b[39m\u001b[22m\u001b[36mUse `Pkg.update()` to get the latest versions of your packages\n",
      "\u001b[39m"
     ]
    }
   ],
   "source": [
    "Pkg.add(\"RDatasets\")"
   ]
  },
  {
   "cell_type": "code",
   "execution_count": 2,
   "metadata": {},
   "outputs": [
    {
     "name": "stderr",
     "output_type": "stream",
     "text": [
      "WARNING: Method definition ==(Base.Nullable{S}, Base.Nullable{T}) in module Base at nullable.jl:238 overwritten in module NullableArrays at /home/hidehisa/.julia/v0.6/NullableArrays/src/operators.jl:99.\n"
     ]
    }
   ],
   "source": [
    "using RDatasets\n",
    "using Plots\n",
    "using CSV\n",
    "using DataFrames"
   ]
  },
  {
   "cell_type": "code",
   "execution_count": 5,
   "metadata": {},
   "outputs": [
    {
     "name": "stderr",
     "output_type": "stream",
     "text": [
      "\u001b[1m\u001b[36mINFO: \u001b[39m\u001b[22m\u001b[36mPrecompiling module RData.\n",
      "\u001b[39m"
     ]
    },
    {
     "data": {
      "text/html": [
       "<table class=\"data-frame\"><thead><tr><th></th><th>SepalLength</th><th>SepalWidth</th><th>PetalLength</th><th>PetalWidth</th><th>Species</th></tr></thead><tbody><tr><th>1</th><td>5.1</td><td>3.5</td><td>1.4</td><td>0.2</td><td>setosa</td></tr><tr><th>2</th><td>4.9</td><td>3.0</td><td>1.4</td><td>0.2</td><td>setosa</td></tr><tr><th>3</th><td>4.7</td><td>3.2</td><td>1.3</td><td>0.2</td><td>setosa</td></tr><tr><th>4</th><td>4.6</td><td>3.1</td><td>1.5</td><td>0.2</td><td>setosa</td></tr><tr><th>5</th><td>5.0</td><td>3.6</td><td>1.4</td><td>0.2</td><td>setosa</td></tr><tr><th>6</th><td>5.4</td><td>3.9</td><td>1.7</td><td>0.4</td><td>setosa</td></tr></tbody></table>"
      ],
      "text/plain": [
       "6×5 DataFrames.DataFrame\n",
       "│ Row │ SepalLength │ SepalWidth │ PetalLength │ PetalWidth │ Species  │\n",
       "├─────┼─────────────┼────────────┼─────────────┼────────────┼──────────┤\n",
       "│ 1   │ 5.1         │ 3.5        │ 1.4         │ 0.2        │ \"setosa\" │\n",
       "│ 2   │ 4.9         │ 3.0        │ 1.4         │ 0.2        │ \"setosa\" │\n",
       "│ 3   │ 4.7         │ 3.2        │ 1.3         │ 0.2        │ \"setosa\" │\n",
       "│ 4   │ 4.6         │ 3.1        │ 1.5         │ 0.2        │ \"setosa\" │\n",
       "│ 5   │ 5.0         │ 3.6        │ 1.4         │ 0.2        │ \"setosa\" │\n",
       "│ 6   │ 5.4         │ 3.9        │ 1.7         │ 0.4        │ \"setosa\" │"
      ]
     },
     "execution_count": 5,
     "metadata": {},
     "output_type": "execute_result"
    }
   ],
   "source": [
    "iris = dataset(\"datasets\", \"iris\")\n",
    "head(iris)"
   ]
  },
  {
   "cell_type": "code",
   "execution_count": 10,
   "metadata": {},
   "outputs": [
    {
     "data": {
      "text/html": [
       "<table class=\"data-frame\"><thead><tr><th></th><th>Species</th><th>m</th><th>s2</th></tr></thead><tbody><tr><th>1</th><td>setosa</td><td>5.006</td><td>0.12424897959183674</td></tr><tr><th>2</th><td>versicolor</td><td>5.936</td><td>0.2664326530612245</td></tr><tr><th>3</th><td>virginica</td><td>6.587999999999999</td><td>0.4043428571428572</td></tr></tbody></table>"
      ],
      "text/plain": [
       "3×3 DataFrames.DataFrame\n",
       "│ Row │ Species      │ m     │ s2       │\n",
       "├─────┼──────────────┼───────┼──────────┤\n",
       "│ 1   │ \"setosa\"     │ 5.006 │ 0.124249 │\n",
       "│ 2   │ \"versicolor\" │ 5.936 │ 0.266433 │\n",
       "│ 3   │ \"virginica\"  │ 6.588 │ 0.404343 │"
      ]
     },
     "execution_count": 10,
     "metadata": {},
     "output_type": "execute_result"
    }
   ],
   "source": [
    "by(iris, :Species) do df\n",
    "    DataFrame(m=mean(df[:SepalLength]), s2=var(df[:SepalLength]))\n",
    "end"
   ]
  },
  {
   "cell_type": "code",
   "execution_count": 11,
   "metadata": {},
   "outputs": [
    {
     "name": "stderr",
     "output_type": "stream",
     "text": [
      "\u001b[1m\u001b[36mINFO: \u001b[39m\u001b[22m\u001b[36mCloning cache of DataValues from https://github.com/davidanthoff/DataValues.jl.git\n",
      "\u001b[39m\u001b[1m\u001b[36mINFO: \u001b[39m\u001b[22m\u001b[36mCloning cache of DocStringExtensions from https://github.com/JuliaDocs/DocStringExtensions.jl.git\n",
      "\u001b[39m\u001b[1m\u001b[36mINFO: \u001b[39m\u001b[22m\u001b[36mCloning cache of Documenter from https://github.com/JuliaDocs/Documenter.jl.git\n",
      "\u001b[39m\u001b[1m\u001b[36mINFO: \u001b[39m\u001b[22m\u001b[36mCloning cache of IterableTables from https://github.com/davidanthoff/IterableTables.jl.git\n",
      "\u001b[39m\u001b[1m\u001b[36mINFO: \u001b[39m\u001b[22m\u001b[36mCloning cache of IteratorInterfaceExtensions from https://github.com/davidanthoff/IteratorInterfaceExtensions.jl.git\n",
      "\u001b[39m\u001b[1m\u001b[36mINFO: \u001b[39m\u001b[22m\u001b[36mCloning cache of NamedTuples from https://github.com/blackrock/NamedTuples.jl.git\n",
      "\u001b[39m\u001b[1m\u001b[36mINFO: \u001b[39m\u001b[22m\u001b[36mCloning cache of Query from https://github.com/davidanthoff/Query.jl.git\n",
      "\u001b[39m\u001b[1m\u001b[36mINFO: \u001b[39m\u001b[22m\u001b[36mCloning cache of QueryOperators from https://github.com/davidanthoff/QueryOperators.jl.git\n",
      "\u001b[39m\u001b[1m\u001b[36mINFO: \u001b[39m\u001b[22m\u001b[36mCloning cache of TableTraits from https://github.com/davidanthoff/TableTraits.jl.git\n",
      "\u001b[39m\u001b[1m\u001b[36mINFO: \u001b[39m\u001b[22m\u001b[36mInstalling DataValues v0.3.1\n",
      "\u001b[39m\u001b[1m\u001b[36mINFO: \u001b[39m\u001b[22m\u001b[36mInstalling DocStringExtensions v0.4.1\n",
      "\u001b[39m\u001b[1m\u001b[36mINFO: \u001b[39m\u001b[22m\u001b[36mInstalling Documenter v0.12.5\n",
      "\u001b[39m\u001b[1m\u001b[36mINFO: \u001b[39m\u001b[22m\u001b[36mInstalling IterableTables v0.6.1\n",
      "\u001b[39m\u001b[1m\u001b[36mINFO: \u001b[39m\u001b[22m\u001b[36mInstalling IteratorInterfaceExtensions v0.0.2\n",
      "\u001b[39m\u001b[1m\u001b[36mINFO: \u001b[39m\u001b[22m\u001b[36mInstalling NamedTuples v4.0.0\n",
      "\u001b[39m\u001b[1m\u001b[36mINFO: \u001b[39m\u001b[22m\u001b[36mInstalling Query v0.9.0\n",
      "\u001b[39m\u001b[1m\u001b[36mINFO: \u001b[39m\u001b[22m\u001b[36mInstalling QueryOperators v0.2.1\n",
      "\u001b[39m\u001b[1m\u001b[36mINFO: \u001b[39m\u001b[22m\u001b[36mInstalling TableTraits v0.1.0\n",
      "\u001b[39m\u001b[1m\u001b[36mINFO: \u001b[39m\u001b[22m\u001b[36mPackage database updated\n",
      "\u001b[39m\u001b[1m\u001b[36mINFO: \u001b[39m\u001b[22m\u001b[36mMETADATA is out-of-date — you may not have the latest version of Query\n",
      "\u001b[39m\u001b[1m\u001b[36mINFO: \u001b[39m\u001b[22m\u001b[36mUse `Pkg.update()` to get the latest versions of your packages\n",
      "\u001b[39m"
     ]
    }
   ],
   "source": [
    "Pkg.add(\"Query\")"
   ]
  },
  {
   "cell_type": "code",
   "execution_count": 12,
   "metadata": {},
   "outputs": [
    {
     "name": "stderr",
     "output_type": "stream",
     "text": [
      "\u001b[1m\u001b[36mINFO: \u001b[39m\u001b[22m\u001b[36mPrecompiling module NamedTuples.\n",
      "\u001b[39m\u001b[1m\u001b[36mINFO: \u001b[39m\u001b[22m\u001b[36mPrecompiling module TableTraits.\n",
      "\u001b[39m\u001b[1m\u001b[36mINFO: \u001b[39m\u001b[22m\u001b[36mPrecompiling module IterableTables.\n",
      "\u001b[39m\u001b[1m\u001b[36mINFO: \u001b[39m\u001b[22m\u001b[36mPrecompiling module DataValues.\n",
      "\u001b[39m\u001b[1m\u001b[36mINFO: \u001b[39m\u001b[22m\u001b[36mPrecompiling module QueryOperators.\n",
      "\u001b[39m"
     ]
    }
   ],
   "source": [
    "using Query"
   ]
  },
  {
   "cell_type": "code",
   "execution_count": 14,
   "metadata": {},
   "outputs": [
    {
     "data": {
      "text/html": [
       "<table class=\"data-frame\"><thead><tr><th></th><th>PetalLength</th><th>PetalWidth</th></tr></thead><tbody><tr><th>1</th><td>1.4</td><td>0.2</td></tr><tr><th>2</th><td>1.4</td><td>0.2</td></tr><tr><th>3</th><td>1.3</td><td>0.2</td></tr><tr><th>4</th><td>1.5</td><td>0.2</td></tr><tr><th>5</th><td>1.4</td><td>0.2</td></tr><tr><th>6</th><td>1.7</td><td>0.4</td></tr><tr><th>7</th><td>1.4</td><td>0.3</td></tr><tr><th>8</th><td>1.5</td><td>0.2</td></tr><tr><th>9</th><td>1.4</td><td>0.2</td></tr><tr><th>10</th><td>1.5</td><td>0.1</td></tr><tr><th>11</th><td>1.5</td><td>0.2</td></tr><tr><th>12</th><td>1.6</td><td>0.2</td></tr><tr><th>13</th><td>1.4</td><td>0.1</td></tr><tr><th>14</th><td>1.1</td><td>0.1</td></tr><tr><th>15</th><td>1.2</td><td>0.2</td></tr><tr><th>16</th><td>1.5</td><td>0.4</td></tr><tr><th>17</th><td>1.3</td><td>0.4</td></tr><tr><th>18</th><td>1.4</td><td>0.3</td></tr><tr><th>19</th><td>1.7</td><td>0.3</td></tr><tr><th>20</th><td>1.5</td><td>0.3</td></tr><tr><th>21</th><td>1.7</td><td>0.2</td></tr><tr><th>22</th><td>1.5</td><td>0.4</td></tr><tr><th>23</th><td>1.0</td><td>0.2</td></tr><tr><th>24</th><td>1.7</td><td>0.5</td></tr><tr><th>25</th><td>1.9</td><td>0.2</td></tr><tr><th>26</th><td>1.6</td><td>0.2</td></tr><tr><th>27</th><td>1.6</td><td>0.4</td></tr><tr><th>28</th><td>1.5</td><td>0.2</td></tr><tr><th>29</th><td>1.4</td><td>0.2</td></tr><tr><th>30</th><td>1.6</td><td>0.2</td></tr><tr><th>&vellip;</th><td>&vellip;</td><td>&vellip;</td></tr></tbody></table>"
      ],
      "text/plain": [
       "50×2 DataFrames.DataFrame\n",
       "│ Row │ PetalLength │ PetalWidth │\n",
       "├─────┼─────────────┼────────────┤\n",
       "│ 1   │ 1.4         │ 0.2        │\n",
       "│ 2   │ 1.4         │ 0.2        │\n",
       "│ 3   │ 1.3         │ 0.2        │\n",
       "│ 4   │ 1.5         │ 0.2        │\n",
       "│ 5   │ 1.4         │ 0.2        │\n",
       "│ 6   │ 1.7         │ 0.4        │\n",
       "│ 7   │ 1.4         │ 0.3        │\n",
       "│ 8   │ 1.5         │ 0.2        │\n",
       "│ 9   │ 1.4         │ 0.2        │\n",
       "│ 10  │ 1.5         │ 0.1        │\n",
       "│ 11  │ 1.5         │ 0.2        │\n",
       "⋮\n",
       "│ 39  │ 1.3         │ 0.2        │\n",
       "│ 40  │ 1.5         │ 0.2        │\n",
       "│ 41  │ 1.3         │ 0.3        │\n",
       "│ 42  │ 1.3         │ 0.3        │\n",
       "│ 43  │ 1.3         │ 0.2        │\n",
       "│ 44  │ 1.6         │ 0.6        │\n",
       "│ 45  │ 1.9         │ 0.4        │\n",
       "│ 46  │ 1.4         │ 0.3        │\n",
       "│ 47  │ 1.6         │ 0.2        │\n",
       "│ 48  │ 1.4         │ 0.2        │\n",
       "│ 49  │ 1.5         │ 0.2        │\n",
       "│ 50  │ 1.4         │ 0.2        │"
      ]
     },
     "execution_count": 14,
     "metadata": {},
     "output_type": "execute_result"
    }
   ],
   "source": [
    "setosa = @from i in iris begin\n",
    "         @where i.Species == \"setosa\"\n",
    "         @select {i.PetalLength, i.PetalWidth}\n",
    "         @collect DataFrame\n",
    "end"
   ]
  },
  {
   "cell_type": "code",
   "execution_count": 15,
   "metadata": {},
   "outputs": [
    {
     "data": {
      "text/plain": [
       "SplitDFbySpecies (generic function with 1 method)"
      ]
     },
     "execution_count": 15,
     "metadata": {},
     "output_type": "execute_result"
    }
   ],
   "source": [
    "function SplitDFbySpecies(iris, species)\n",
    "    df = @from i in iris begin\n",
    "         @where i.Species == species\n",
    "         @select {i.PetalLength, i.PetalWidth}\n",
    "         @collect DataFrame\n",
    "    end\n",
    "    return df\n",
    "end"
   ]
  },
  {
   "cell_type": "code",
   "execution_count": 17,
   "metadata": {},
   "outputs": [
    {
     "data": {
      "text/html": [
       "<table class=\"data-frame\"><thead><tr><th></th><th>PetalLength</th><th>PetalWidth</th></tr></thead><tbody><tr><th>1</th><td>6.0</td><td>2.5</td></tr><tr><th>2</th><td>5.1</td><td>1.9</td></tr><tr><th>3</th><td>5.9</td><td>2.1</td></tr><tr><th>4</th><td>5.6</td><td>1.8</td></tr><tr><th>5</th><td>5.8</td><td>2.2</td></tr><tr><th>6</th><td>6.6</td><td>2.1</td></tr><tr><th>7</th><td>4.5</td><td>1.7</td></tr><tr><th>8</th><td>6.3</td><td>1.8</td></tr><tr><th>9</th><td>5.8</td><td>1.8</td></tr><tr><th>10</th><td>6.1</td><td>2.5</td></tr><tr><th>11</th><td>5.1</td><td>2.0</td></tr><tr><th>12</th><td>5.3</td><td>1.9</td></tr><tr><th>13</th><td>5.5</td><td>2.1</td></tr><tr><th>14</th><td>5.0</td><td>2.0</td></tr><tr><th>15</th><td>5.1</td><td>2.4</td></tr><tr><th>16</th><td>5.3</td><td>2.3</td></tr><tr><th>17</th><td>5.5</td><td>1.8</td></tr><tr><th>18</th><td>6.7</td><td>2.2</td></tr><tr><th>19</th><td>6.9</td><td>2.3</td></tr><tr><th>20</th><td>5.0</td><td>1.5</td></tr><tr><th>21</th><td>5.7</td><td>2.3</td></tr><tr><th>22</th><td>4.9</td><td>2.0</td></tr><tr><th>23</th><td>6.7</td><td>2.0</td></tr><tr><th>24</th><td>4.9</td><td>1.8</td></tr><tr><th>25</th><td>5.7</td><td>2.1</td></tr><tr><th>26</th><td>6.0</td><td>1.8</td></tr><tr><th>27</th><td>4.8</td><td>1.8</td></tr><tr><th>28</th><td>4.9</td><td>1.8</td></tr><tr><th>29</th><td>5.6</td><td>2.1</td></tr><tr><th>30</th><td>5.8</td><td>1.6</td></tr><tr><th>&vellip;</th><td>&vellip;</td><td>&vellip;</td></tr></tbody></table>"
      ],
      "text/plain": [
       "50×2 DataFrames.DataFrame\n",
       "│ Row │ PetalLength │ PetalWidth │\n",
       "├─────┼─────────────┼────────────┤\n",
       "│ 1   │ 6.0         │ 2.5        │\n",
       "│ 2   │ 5.1         │ 1.9        │\n",
       "│ 3   │ 5.9         │ 2.1        │\n",
       "│ 4   │ 5.6         │ 1.8        │\n",
       "│ 5   │ 5.8         │ 2.2        │\n",
       "│ 6   │ 6.6         │ 2.1        │\n",
       "│ 7   │ 4.5         │ 1.7        │\n",
       "│ 8   │ 6.3         │ 1.8        │\n",
       "│ 9   │ 5.8         │ 1.8        │\n",
       "│ 10  │ 6.1         │ 2.5        │\n",
       "│ 11  │ 5.1         │ 2.0        │\n",
       "⋮\n",
       "│ 39  │ 4.8         │ 1.8        │\n",
       "│ 40  │ 5.4         │ 2.1        │\n",
       "│ 41  │ 5.6         │ 2.4        │\n",
       "│ 42  │ 5.1         │ 2.3        │\n",
       "│ 43  │ 5.1         │ 1.9        │\n",
       "│ 44  │ 5.9         │ 2.3        │\n",
       "│ 45  │ 5.7         │ 2.5        │\n",
       "│ 46  │ 5.2         │ 2.3        │\n",
       "│ 47  │ 5.0         │ 1.9        │\n",
       "│ 48  │ 5.2         │ 2.0        │\n",
       "│ 49  │ 5.4         │ 2.3        │\n",
       "│ 50  │ 5.1         │ 1.8        │"
      ]
     },
     "execution_count": 17,
     "metadata": {},
     "output_type": "execute_result"
    }
   ],
   "source": [
    "setosa = SplitDFbySpecies(iris, \"setosa\")\n",
    "versicolor = SplitDFbySpecies(iris, \"versicolor\")\n",
    "virginica = SplitDFbySpecies(iris, \"virginica\")"
   ]
  },
  {
   "cell_type": "code",
   "execution_count": 30,
   "metadata": {},
   "outputs": [
    {
     "name": "stdout",
     "output_type": "stream",
     "text": [
      "PetalLength\n"
     ]
    }
   ],
   "source": [
    "println(names(setosa)[1])"
   ]
  },
  {
   "cell_type": "code",
   "execution_count": 44,
   "metadata": {},
   "outputs": [
    {
     "data": {
      "text/plain": [
       "AttributeDescription (generic function with 2 methods)"
      ]
     },
     "execution_count": 44,
     "metadata": {},
     "output_type": "execute_result"
    }
   ],
   "source": [
    "function AttributeDescription(df, name)\n",
    "    println(name, \":\\n\")\n",
    "    colnames = names(df)\n",
    "    ncols = size(colnames)[1]\n",
    "    for i in 1:ncols\n",
    "        println(colnames[i], \":\")\n",
    "        println(\" mean: \", mean(df[i]))\n",
    "        println(\" var:  \", var(df[i]))\n",
    "    end\n",
    "    println()\n",
    "end"
   ]
  },
  {
   "cell_type": "code",
   "execution_count": 45,
   "metadata": {},
   "outputs": [
    {
     "name": "stdout",
     "output_type": "stream",
     "text": [
      "setosa:\n",
      "\n",
      "PetalLength:\n",
      " mean: 1.462\n",
      " var:  0.030159183673469387\n",
      "PetalWidth:\n",
      " mean: 0.24600000000000002\n",
      " var:  0.011106122448979593\n",
      "\n",
      "versicolor:\n",
      "\n",
      "PetalLength:\n",
      " mean: 4.260000000000001\n",
      " var:  0.22081632653061226\n",
      "PetalWidth:\n",
      " mean: 1.3259999999999998\n",
      " var:  0.0391061224489796\n",
      "\n",
      "virginica:\n",
      "\n",
      "PetalLength:\n",
      " mean: 5.5520000000000005\n",
      " var:  0.3045877551020408\n",
      "PetalWidth:\n",
      " mean: 2.026\n",
      " var:  0.07543265306122449\n",
      "\n"
     ]
    }
   ],
   "source": [
    "AttributeDescription(setosa, \"setosa\")\n",
    "AttributeDescription(versicolor, \"versicolor\")\n",
    "AttributeDescription(virginica, \"virginica\")"
   ]
  },
  {
   "cell_type": "code",
   "execution_count": 51,
   "metadata": {},
   "outputs": [
    {
     "data": {
      "text/plain": [
       "dfmean (generic function with 1 method)"
      ]
     },
     "execution_count": 51,
     "metadata": {},
     "output_type": "execute_result"
    }
   ],
   "source": [
    "function dfmean(df::DataFrame)\n",
    "    return [mean(i) for i in df.columns]\n",
    "end"
   ]
  },
  {
   "cell_type": "code",
   "execution_count": 69,
   "metadata": {},
   "outputs": [
    {
     "data": {
      "text/plain": [
       "dfcov (generic function with 1 method)"
      ]
     },
     "execution_count": 69,
     "metadata": {},
     "output_type": "execute_result"
    }
   ],
   "source": [
    "function dfcov(df)\n",
    "    cols = df.columns\n",
    "    ncols = size(cols)[1]\n",
    "    ndatas = size(cols[1])[1]\n",
    "    array = zeros(ncols, ncols)\n",
    "    mean = dfmean(df)\n",
    "    for i in 1:ncols\n",
    "        for j in 1:ncols\n",
    "            array[i, j] = 1/ndatas * (cols[i] .- mean[i])' * (cols[j] .- mean[j])\n",
    "        end\n",
    "    end\n",
    "    return array\n",
    "end"
   ]
  },
  {
   "cell_type": "code",
   "execution_count": 56,
   "metadata": {},
   "outputs": [
    {
     "name": "stdout",
     "output_type": "stream",
     "text": [
      "[1.462, 0.246]\n"
     ]
    }
   ],
   "source": [
    "println(dfmean(setosa))"
   ]
  },
  {
   "cell_type": "code",
   "execution_count": 70,
   "metadata": {},
   "outputs": [
    {
     "name": "stdout",
     "output_type": "stream",
     "text": [
      "[0.220816 0.073102; 0.073102 0.0391061]\n"
     ]
    }
   ],
   "source": [
    "println(dfcov(versicolor))"
   ]
  },
  {
   "cell_type": "code",
   "execution_count": 74,
   "metadata": {},
   "outputs": [
    {
     "name": "stdout",
     "output_type": "stream",
     "text": [
      "[3.758, 1.19933]\n",
      "[3.11628 1.29561; 1.29561 0.581006]\n"
     ]
    }
   ],
   "source": [
    "println(dfmean(iris[[:PetalLength, :PetalWidth]]))\n",
    "println(dfcov(iris[[:PetalLength, :PetalWidth]]))"
   ]
  },
  {
   "cell_type": "code",
   "execution_count": 111,
   "metadata": {},
   "outputs": [
    {
     "data": {
      "text/plain": [
       "scale (generic function with 2 methods)"
      ]
     },
     "execution_count": 111,
     "metadata": {},
     "output_type": "execute_result"
    }
   ],
   "source": [
    "function scale(df, iris)\n",
    "    ncols = length(df.columns)\n",
    "    means = dfmean(iris[[:PetalLength, :PetalWidth]])\n",
    "    cov = dfcov(iris[[:PetalLength, :PetalWidth]])\n",
    "    sigmas = [sqrt(cov[i, i]) for i in 1:ncols]\n",
    "    \n",
    "    scaler(x, mu, sigma) = (x .- mu) / sigma\n",
    "    array = zeros(size(df))\n",
    "    for i in 1:ncols\n",
    "        array[:, i] = scaler(df[i], means[i], sigmas[i])\n",
    "    end\n",
    "    return array\n",
    "end"
   ]
  },
  {
   "cell_type": "code",
   "execution_count": 102,
   "metadata": {},
   "outputs": [],
   "source": [
    "gr()\n",
    "scatter(setosa[1], setosa[2]; xlabel=\"Petal Length\", ylabel=\"Petal Width\",\n",
    "        xlims=(1, 7), ylims=(-1, 4), m=(0.5, :s), label=\"setosa\")\n",
    "scatter!(versicolor[1], versicolor[2]; m=(0.5, :c), label=\"versicolor\")\n",
    "scatter!(virginica[1], virginica[2]; m=(0.5, :v), label=\"virginica\")\n",
    "savefig(\"figures/unscaled.png\")"
   ]
  },
  {
   "cell_type": "code",
   "execution_count": 98,
   "metadata": {},
   "outputs": [
    {
     "name": "stderr",
     "output_type": "stream",
     "text": [
      "\u001b[1m\u001b[36mINFO: \u001b[39m\u001b[22m\u001b[36mCloning cache of StatPlots from https://github.com/JuliaPlots/StatPlots.jl.git\n",
      "\u001b[39m\u001b[1m\u001b[36mINFO: \u001b[39m\u001b[22m\u001b[36mCloning cache of TableTraitsUtils from https://github.com/davidanthoff/TableTraitsUtils.jl.git\n",
      "\u001b[39m\u001b[1m\u001b[36mINFO: \u001b[39m\u001b[22m\u001b[36mInstalling StatPlots v0.7.0\n",
      "\u001b[39m\u001b[1m\u001b[36mINFO: \u001b[39m\u001b[22m\u001b[36mInstalling TableTraitsUtils v0.1.3\n",
      "\u001b[39m\u001b[1m\u001b[36mINFO: \u001b[39m\u001b[22m\u001b[36mBuilding SpecialFunctions\n",
      "\u001b[39m\u001b[1m\u001b[36mINFO: \u001b[39m\u001b[22m\u001b[36mBuilding Rmath\n",
      "\u001b[39m\u001b[1m\u001b[36mINFO: \u001b[39m\u001b[22m\u001b[36mBuilding Plots\n",
      "\u001b[39m\u001b[1m\u001b[36mINFO: \u001b[39m\u001b[22m\u001b[36mPackage database updated\n",
      "\u001b[39m\u001b[1m\u001b[36mINFO: \u001b[39m\u001b[22m\u001b[36mMETADATA is out-of-date — you may not have the latest version of StatPlots\n",
      "\u001b[39m\u001b[1m\u001b[36mINFO: \u001b[39m\u001b[22m\u001b[36mUse `Pkg.update()` to get the latest versions of your packages\n",
      "\u001b[39m"
     ]
    }
   ],
   "source": [
    "Pkg.add(\"StatPlots\")"
   ]
  },
  {
   "cell_type": "code",
   "execution_count": 113,
   "metadata": {},
   "outputs": [],
   "source": [
    "setosa_scaled = scale(setosa, iris)\n",
    "versicolor_scaled = scale(versicolor, iris)\n",
    "virginica_scaled = scale(virginica, iris)\n",
    "\n",
    "gr()\n",
    "scatter(setosa_scaled[:, 1], setosa_scaled[:, 2]; xlabel=\"Petal Length\", ylabel=\"Petal Width\",\n",
    "        xlims=(-1.5, 1.5), ylims=(-1.5, 1.5), m=(0.5, :s), label=\"setosa\")\n",
    "scatter!(versicolor_scaled[:, 1], versicolor_scaled[:, 2]; m=(0.5, :c), label=\"versicolor\")\n",
    "scatter!(virginica_scaled[:, 1], virginica_scaled[:, 2]; m=(0.5, :v), label=\"virginica\")\n",
    "savefig(\"figures/scaled.png\")"
   ]
  },
  {
   "cell_type": "code",
   "execution_count": null,
   "metadata": {},
   "outputs": [],
   "source": []
  }
 ],
 "metadata": {
  "kernelspec": {
   "display_name": "Julia 0.6.2",
   "language": "julia",
   "name": "julia-0.6"
  },
  "language_info": {
   "file_extension": ".jl",
   "mimetype": "application/julia",
   "name": "julia",
   "version": "0.6.2"
  }
 },
 "nbformat": 4,
 "nbformat_minor": 2
}
